{
 "cells": [
  {
   "cell_type": "code",
   "execution_count": 1,
   "metadata": {
    "id": "zC0JFc_J8sL9"
   },
   "outputs": [],
   "source": [
    "import logging\n",
    "\n",
    "import numpy as np\n",
    "import pandas as pd\n",
    "import torch\n",
    "import torch.optim as optim\n",
    "import tqdm\n",
    "from torch.utils.data import DataLoader, Dataset\n",
    "from transformers import AutoTokenizer, AutoModelForQuestionAnswering, AutoConfig, RobertaForQuestionAnswering, squad_convert_examples_to_features\n",
    "from transformers.data.processors.squad import SquadV2Processor\n",
    "\n",
    "# Create logger\n",
    "logger = logging.getLogger(__name__)"
   ]
  },
  {
   "cell_type": "code",
   "execution_count": 2,
   "metadata": {},
   "outputs": [
    {
     "data": {
      "text/plain": [
       "'1.9.0+cu111'"
      ]
     },
     "execution_count": 2,
     "metadata": {},
     "output_type": "execute_result"
    }
   ],
   "source": [
    "torch.__version__"
   ]
  },
  {
   "cell_type": "code",
   "execution_count": 3,
   "metadata": {
    "id": "MrI7mfsV_8ZX"
   },
   "outputs": [
    {
     "data": {
      "text/plain": [
       "True"
      ]
     },
     "execution_count": 3,
     "metadata": {},
     "output_type": "execute_result"
    }
   ],
   "source": [
    "# Check that cuda is available\n",
    "torch.cuda.is_available()"
   ]
  },
  {
   "cell_type": "code",
   "execution_count": 4,
   "metadata": {
    "id": "s5rbbS_S9dSp"
   },
   "outputs": [],
   "source": [
    "%mkdir -p squad_data model_weights"
   ]
  },
  {
   "cell_type": "code",
   "execution_count": 5,
   "metadata": {
    "id": "l6NXohYG9lRC"
   },
   "outputs": [
    {
     "name": "stdout",
     "output_type": "stream",
     "text": [
      " Homework_1_⚡️.ipynb  '(results).py'      train-step-losses.csv\r\n",
      " \u001b[0m\u001b[01;34mmodel_weights\u001b[0m/        \u001b[01;34msquad_data\u001b[0m/\r\n",
      " \u001b[01;34mprediction_outputs\u001b[0m/   train_dataset.pt\r\n"
     ]
    }
   ],
   "source": [
    "%ls"
   ]
  },
  {
   "cell_type": "code",
   "execution_count": 6,
   "metadata": {
    "id": "18TpmmEr9nNv"
   },
   "outputs": [
    {
     "name": "stdout",
     "output_type": "stream",
     "text": [
      "--2023-02-15 09:28:21--  https://rajpurkar.github.io/SQuAD-explorer/dataset/train-v2.0.json\n",
      "Resolving rajpurkar.github.io (rajpurkar.github.io)... 2606:50c0:8000::153, 2606:50c0:8003::153, 2606:50c0:8002::153, ...\n",
      "Connecting to rajpurkar.github.io (rajpurkar.github.io)|2606:50c0:8000::153|:443... connected.\n",
      "HTTP request sent, awaiting response... 200 OK\n",
      "Length: 42123633 (40M) [application/json]\n",
      "Saving to: ‘squad_data/train-v2.0.json’\n",
      "\n",
      "train-v2.0.json     100%[===================>]  40.17M  26.3MB/s    in 1.5s    \n",
      "\n",
      "2023-02-15 09:28:24 (26.3 MB/s) - ‘squad_data/train-v2.0.json’ saved [42123633/42123633]\n",
      "\n",
      "--2023-02-15 09:28:25--  https://rajpurkar.github.io/SQuAD-explorer/dataset/dev-v2.0.json\n",
      "Resolving rajpurkar.github.io (rajpurkar.github.io)... 2606:50c0:8000::153, 2606:50c0:8003::153, 2606:50c0:8002::153, ...\n",
      "Connecting to rajpurkar.github.io (rajpurkar.github.io)|2606:50c0:8000::153|:443... connected.\n",
      "HTTP request sent, awaiting response... 200 OK\n",
      "Length: 4370528 (4.2M) [application/json]\n",
      "Saving to: ‘squad_data/dev-v2.0.json’\n",
      "\n",
      "dev-v2.0.json       100%[===================>]   4.17M  9.44MB/s    in 0.4s    \n",
      "\n",
      "2023-02-15 09:28:25 (9.44 MB/s) - ‘squad_data/dev-v2.0.json’ saved [4370528/4370528]\n",
      "\n"
     ]
    }
   ],
   "source": [
    "!wget -P squad_data https://rajpurkar.github.io/SQuAD-explorer/dataset/train-v2.0.json\n",
    "!wget -P squad_data https://rajpurkar.github.io/SQuAD-explorer/dataset/dev-v2.0.json"
   ]
  },
  {
   "cell_type": "code",
   "execution_count": 7,
   "metadata": {
    "id": "yebpNBi0_IGw"
   },
   "outputs": [
    {
     "name": "stdout",
     "output_type": "stream",
     "text": [
      "dev-v2.0.json  train-v2.0.json\r\n"
     ]
    }
   ],
   "source": [
    "%ls squad_data"
   ]
  },
  {
   "cell_type": "code",
   "execution_count": 8,
   "metadata": {
    "id": "oKT5tQ2M-lGS"
   },
   "outputs": [
    {
     "name": "stderr",
     "output_type": "stream",
     "text": [
      "Some weights of the model checkpoint at roberta-base were not used when initializing RobertaForQuestionAnswering: ['lm_head.layer_norm.weight', 'lm_head.dense.weight', 'lm_head.dense.bias', 'lm_head.decoder.weight', 'lm_head.bias', 'lm_head.layer_norm.bias']\n",
      "- This IS expected if you are initializing RobertaForQuestionAnswering from the checkpoint of a model trained on another task or with another architecture (e.g. initializing a BertForSequenceClassification model from a BertForPreTraining model).\n",
      "- This IS NOT expected if you are initializing RobertaForQuestionAnswering from the checkpoint of a model that you expect to be exactly identical (initializing a BertForSequenceClassification model from a BertForSequenceClassification model).\n",
      "Some weights of RobertaForQuestionAnswering were not initialized from the model checkpoint at roberta-base and are newly initialized: ['qa_outputs.weight', 'qa_outputs.bias']\n",
      "You should probably TRAIN this model on a down-stream task to be able to use it for predictions and inference.\n"
     ]
    }
   ],
   "source": [
    "# Configure the tokenizer and model\n",
    "config = AutoConfig.from_pretrained('roberta-base')\n",
    "tokenizer = AutoTokenizer.from_pretrained('roberta-base', do_lower_case=True, use_fast=False)\n",
    "model = AutoModelForQuestionAnswering.from_pretrained('roberta-base', config=config)"
   ]
  },
  {
   "cell_type": "code",
   "execution_count": 9,
   "metadata": {
    "id": "bKbWCdeQ80Oc"
   },
   "outputs": [],
   "source": [
    "def load_examples(data_dir, data_file, tokenizer, evaluate=False, output_examples=False):\n",
    "    processor = SquadV2Processor()\n",
    "    if evaluate:\n",
    "        examples = processor.get_dev_examples(data_dir, filename=data_file)\n",
    "    else:\n",
    "        examples = processor.get_train_examples(data_dir, filename=data_file)\n",
    "\n",
    "    features, dataset = squad_convert_examples_to_features(\n",
    "        examples=examples,\n",
    "        tokenizer=tokenizer,\n",
    "        max_seq_length=384,\n",
    "        doc_stride=128,\n",
    "        max_query_length=64,\n",
    "        is_training=not evaluate,\n",
    "        return_dataset=\"pt\",\n",
    "        threads=1,\n",
    "    )\n",
    "\n",
    "    if output_examples:\n",
    "        return dataset, examples, features\n",
    "\n",
    "    return dataset\n",
    "\n",
    "def train_single_epoch(data_loader, model, optimizer, device):\n",
    "    \"\"\"\n",
    "    Function that runs a pytorch based training. For the model training\n",
    "    with question and answering we will need the input_ids,\n",
    "    attention mask, start and ending positions\n",
    "    \"\"\"\n",
    "    # TODO: Set up loss meter\n",
    "    # TODO: Get working with GPU\n",
    "    step_losses = []\n",
    "\n",
    "    # Put model in training mode\n",
    "    model.train()\n",
    "\n",
    "    # Description of training\n",
    "    tqdm_loop = tqdm.tqdm(data_loader, leave=True)\n",
    "\n",
    "    for data in tqdm_loop:\n",
    "        # Zero out the gradients from the optimizer\n",
    "        optimizer.zero_grad()\n",
    "\n",
    "        # Get all of the outputs - for this function\n",
    "        # it is specific to the question and answer inputs\n",
    "        input_ids = data[0].to(device)\n",
    "        attention_mask = data[1].to(device)\n",
    "        start_positions = data[3].to(device)\n",
    "        end_positions = data[4].to(device)\n",
    "\n",
    "        # Get the outputs of the model - remember that\n",
    "        # at least with the QA models the first output of the\n",
    "        # model will be the loss\n",
    "        outputs = model(\n",
    "            input_ids,\n",
    "            attention_mask=attention_mask,\n",
    "            start_positions=start_positions,\n",
    "            end_positions=end_positions,\n",
    "        )\n",
    "\n",
    "        # Gather the loss\n",
    "        loss = outputs.loss\n",
    "        step_losses.append(loss)\n",
    "\n",
    "        # Calculate the gradients in the backward pass\n",
    "        loss.backward()\n",
    "\n",
    "        # update the gradients with the optimizer\n",
    "        optimizer.step()\n",
    "\n",
    "        # tqdm description\n",
    "        tqdm_loop.set_postfix(loss=loss.item())\n",
    "\n",
    "    return step_losses"
   ]
  },
  {
   "cell_type": "code",
   "execution_count": 10,
   "metadata": {
    "id": "5pDPIvRE-RFY"
   },
   "outputs": [
    {
     "name": "stderr",
     "output_type": "stream",
     "text": [
      "100%|███████████████████████████████████████████| 35/35 [00:03<00:00, 10.88it/s]\n",
      "convert squad examples to features: 100%|█| 11873/11873 [00:54<00:00, 219.34it/s\n",
      "add example index and unique id: 100%|█| 11873/11873 [00:00<00:00, 518841.97it/s\n"
     ]
    }
   ],
   "source": [
    "# Create path variables\n",
    "data_dir = 'squad_data'\n",
    "train_data_file = 'train-v2.0.json'\n",
    "validation_data_file = 'dev-v2.0.json'\n",
    "create_training_data = False\n",
    "\n",
    "# Create the training dataset\n",
    "if create_training_data:\n",
    "    train_dataset = load_examples(\n",
    "        data_dir=data_dir,\n",
    "        data_file=train_data_file,\n",
    "        tokenizer=tokenizer,\n",
    "        evaluate=False,\n",
    "        output_examples=False,\n",
    "    )\n",
    "    torch.save(train_dataset, 'train_dataset.pt')\n",
    "else:\n",
    "    train_dataset = torch.load('train_dataset.pt')\n",
    "\n",
    "# Create the validation set\n",
    "validation_dataset, validation_examples, validation_features = load_examples(\n",
    "    data_dir=data_dir,\n",
    "    data_file=validation_data_file,\n",
    "    tokenizer=tokenizer,\n",
    "    evaluate=True,\n",
    "    output_examples=True,\n",
    ")"
   ]
  },
  {
   "cell_type": "code",
   "execution_count": 11,
   "metadata": {
    "id": "GA2idIeuorlJ"
   },
   "outputs": [],
   "source": [
    "training_dataset = train_dataset[:(len(train_dataset) - 10000)]\n",
    "test_dataset = train_dataset[(len(train_dataset) - 10000):]"
   ]
  },
  {
   "cell_type": "code",
   "execution_count": 12,
   "metadata": {
    "id": "alQ_x9KzpDyS"
   },
   "outputs": [],
   "source": [
    "class SquadDataset(Dataset):\n",
    "    \"\"\"\n",
    "    Class that builds the encodings for the tokens\n",
    "    from the Squad V2 dataset\n",
    "    \"\"\"\n",
    "\n",
    "    def __init__(self, data, mode=\"training\"):  # noqa\n",
    "        self.data = data\n",
    "        self.input_ids = data[0].tolist()\n",
    "        self.attention_mask = data[1].tolist()\n",
    "        self.mode = mode\n",
    "\n",
    "        # If mode is training then we need to extract\n",
    "        # the start and stop positions\n",
    "        if self.mode == \"training\":\n",
    "            # Add the start and end positions\n",
    "            self.start_positions = data[3].tolist()\n",
    "            self.end_positions = data[4].tolist()\n",
    "\n",
    "    def __len__(self):  # noqa\n",
    "        return len(self.input_ids)\n",
    "\n",
    "    def __getitem__(self, idx):  # noqa\n",
    "        # We need to get the outputs for all of the texts\n",
    "        # Contexts\n",
    "        # Set up input ids to be torch tensors\n",
    "        input_ids = torch.tensor(self.input_ids[idx], dtype=torch.long)\n",
    "        attention_mask = torch.tensor(self.attention_mask[idx], dtype=torch.long)\n",
    "\n",
    "        # Gather outputs\n",
    "        outputs = {\"input_ids\": input_ids, \"attention_mask\": attention_mask}\n",
    "\n",
    "        if self.mode == \"training\":\n",
    "            start_positions = torch.tensor(self.start_positions[idx], dtype=torch.long)\n",
    "            end_positions = torch.tensor(self.end_positions[idx], dtype=torch.long)\n",
    "\n",
    "            outputs[\"start_positions\"] = start_positions\n",
    "            outputs[\"end_positions\"] = end_positions\n",
    "\n",
    "        return outputs"
   ]
  },
  {
   "cell_type": "code",
   "execution_count": 13,
   "metadata": {
    "id": "vT57Hip-po2e"
   },
   "outputs": [],
   "source": [
    "training_dataset = SquadDataset(training_dataset, mode='training')\n",
    "test_dataset = SquadDataset(test_dataset, mode='training')"
   ]
  },
  {
   "cell_type": "code",
   "execution_count": 14,
   "metadata": {
    "id": "mi5-5-iSvElT"
   },
   "outputs": [],
   "source": [
    "train_loader = DataLoader(training_dataset, batch_size=16)"
   ]
  },
  {
   "cell_type": "code",
   "execution_count": 15,
   "metadata": {
    "id": "o_bfunYCx7cl"
   },
   "outputs": [
    {
     "data": {
      "text/plain": [
       "{'input_ids': tensor([[   0, 1779,  222,  ...,    1,    1,    1],\n",
       "         [   0, 2264,  911,  ...,    1,    1,    1],\n",
       "         [   0, 1779,  222,  ...,    1,    1,    1],\n",
       "         ...,\n",
       "         [   0, 2264,   21,  ...,    1,    1,    1],\n",
       "         [   0, 2264,   21,  ...,    1,    1,    1],\n",
       "         [   0, 4993,   69,  ...,    1,    1,    1]]),\n",
       " 'attention_mask': tensor([[1, 1, 1,  ..., 0, 0, 0],\n",
       "         [1, 1, 1,  ..., 0, 0, 0],\n",
       "         [1, 1, 1,  ..., 0, 0, 0],\n",
       "         ...,\n",
       "         [1, 1, 1,  ..., 0, 0, 0],\n",
       "         [1, 1, 1,  ..., 0, 0, 0],\n",
       "         [1, 1, 1,  ..., 0, 0, 0]]),\n",
       " 'start_positions': tensor([ 84,  77, 154,  69,  87, 103, 144, 109,  86,  93, 148, 150, 166,  93,\n",
       "         147,  70]),\n",
       " 'end_positions': tensor([ 88,  79, 154,  72,  89, 106, 147, 113,  88,  94, 151, 150, 166,  94,\n",
       "         150,  71])}"
      ]
     },
     "execution_count": 15,
     "metadata": {},
     "output_type": "execute_result"
    }
   ],
   "source": [
    "next(iter(train_loader))"
   ]
  },
  {
   "cell_type": "code",
   "execution_count": 16,
   "metadata": {},
   "outputs": [
    {
     "name": "stdout",
     "output_type": "stream",
     "text": [
      "env: CUDA_VISIBLE_DEVICES=0\n"
     ]
    }
   ],
   "source": [
    "%env CUDA_VISIBLE_DEVICES=0"
   ]
  },
  {
   "cell_type": "code",
   "execution_count": 17,
   "metadata": {},
   "outputs": [
    {
     "data": {
      "text/plain": [
       "2"
      ]
     },
     "execution_count": 17,
     "metadata": {},
     "output_type": "execute_result"
    }
   ],
   "source": [
    "torch.cuda.device_count()"
   ]
  },
  {
   "cell_type": "code",
   "execution_count": 18,
   "metadata": {
    "id": "Kzn5Q3iTsOlW"
   },
   "outputs": [
    {
     "name": "stdout",
     "output_type": "stream",
     "text": [
      "cuda:0\n"
     ]
    }
   ],
   "source": [
    "batch_size = 16\n",
    "path = \"./model_weights/text-mining-titans-roberta-qa.pt\"\n",
    "\n",
    "# Set up the device\n",
    "device = (\n",
    "    torch.device(\"cuda:0\")\n",
    "    if torch.cuda.is_available()\n",
    "    else torch.device(\"cpu\")  # noqa\n",
    ")  # noqa\n",
    "\n",
    "print(device)"
   ]
  },
  {
   "cell_type": "code",
   "execution_count": 19,
   "metadata": {},
   "outputs": [
    {
     "data": {
      "text/plain": [
       "False"
      ]
     },
     "execution_count": 19,
     "metadata": {},
     "output_type": "execute_result"
    }
   ],
   "source": [
    "next(model.parameters()).is_cuda"
   ]
  },
  {
   "cell_type": "code",
   "execution_count": 20,
   "metadata": {
    "id": "Pe53jfI1snww"
   },
   "outputs": [],
   "source": [
    "from transformers import TrainingArguments, Trainer\n",
    "import math\n",
    "import time"
   ]
  },
  {
   "cell_type": "code",
   "execution_count": 21,
   "metadata": {},
   "outputs": [],
   "source": [
    "class CustomTrainer(Trainer):\n",
    "    def _inner_training_loop(\n",
    "        self,\n",
    "        batch_size=None,\n",
    "        args=None,\n",
    "        resume_from_checkpoint=None,\n",
    "        trial=None,\n",
    "        ignore_keys_for_eval=None\n",
    "    ):\n",
    "        # The first thing we will do just like the training inner loop is get the\n",
    "        # training dataloader\n",
    "        start = time.time()\n",
    "        train_loader = self.get_train_dataloader()\n",
    "        eval_loader = self.get_eval_dataloader()\n",
    "\n",
    "        # Get number of epochs and max steps\n",
    "        number_of_epochs = args.num_train_epochs\n",
    "        max_steps = math.ceil(args.num_train_epochs * len(train_loader))\n",
    "\n",
    "        # In our case we will set our own optimizer internally\n",
    "        self.optimizer = optim.Adam(model.parameters(), lr=args.learning_rate)\n",
    "\n",
    "        # Implement a learning rate scheduler\n",
    "        self.scheduler = optim.lr_scheduler.StepLR(self.optimizer, 1, gamma=0.9)\n",
    "\n",
    "        train_step_losses = []\n",
    "        # Train the model over epochs\n",
    "        for epoch in range(number_of_epochs):\n",
    "            path = f\"./model_weights/text-mining-titans-roberta-qa-cp{epoch}.pt\"\n",
    "            model.train()\n",
    "            train_loss_per_epoch = 0\n",
    "            train_acc_per_epoch = 0\n",
    "\n",
    "#             with tqdm.tqdm(train_loader, unit='batch') as training_epoch:\n",
    "#                 training_epoch.set_description(f'Training epoch {epoch}')\n",
    "            for step, data in enumerate(train_loader):\n",
    "                # Zero out the optimizer\n",
    "                self.optimizer.zero_grad()\n",
    "\n",
    "                # Set up the inputs\n",
    "                input_ids = data['input_ids'].to(args.device)\n",
    "                attention_mask = data['attention_mask'].to(args.device)\n",
    "                start_positions = data['start_positions'].to(args.device)\n",
    "                end_positions = data['end_positions'].to(args.device)\n",
    "\n",
    "                # Get the outputs of the model\n",
    "                outputs = model(\n",
    "                    input_ids,\n",
    "                    attention_mask=attention_mask,\n",
    "                    start_positions=start_positions,\n",
    "                    end_positions=end_positions,\n",
    "                )\n",
    "\n",
    "                # Get the loss\n",
    "                loss = outputs.loss\n",
    "\n",
    "                # Make the backward pass and compute the gradients\n",
    "                loss.backward()\n",
    "\n",
    "                # Apply gradients\n",
    "                self.optimizer.step()\n",
    "\n",
    "#                 # Set loss description\n",
    "#                 training_epoch.set_postfix(loss=loss.item())\n",
    "\n",
    "                # Update the training loss per epoch\n",
    "                train_loss_per_epoch += loss.item()\n",
    "                train_step_losses.append(loss.item())\n",
    "                    \n",
    "            # Step with the scheduler after the epoch\n",
    "            self.scheduler.step()\n",
    "            train_loss_per_epoch /= len(train_loader)\n",
    "            \n",
    "            # Save the model\n",
    "            torch.save(model.state_dict(), path)\n",
    "            \n",
    "            # Setup the evaluation process at the end of each epoch\n",
    "            eval_loss_per_epoch = 0\n",
    "            model.eval()\n",
    "            with torch.no_grad():\n",
    "#                 with tqdm.tqdm(eval_loader, unit='batch') as eval_epoch:\n",
    "#                     eval_epoch.set_description(f'Evaluation Epoch {epoch}')\n",
    "                    \n",
    "                for eval_step, eval_data in enumerate(eval_loader):\n",
    "                    input_ids = eval_data['input_ids'].to(args.device)\n",
    "                    attention_mask = eval_data['attention_mask'].to(args.device)\n",
    "                    start_positions = eval_data['start_positions'].to(args.device)\n",
    "                    end_positions = eval_data['end_positions'].to(args.device)\n",
    "\n",
    "                    # Get the outputs of the model\n",
    "                    outputs = model(\n",
    "                        input_ids,\n",
    "                        attention_mask=attention_mask,\n",
    "                        start_positions=start_positions,\n",
    "                        end_positions=end_positions,\n",
    "                    )\n",
    "\n",
    "                    # Eval loss\n",
    "                    eval_loss = outputs.loss\n",
    "                    eval_loss_per_epoch += eval_loss.item()\n",
    "\n",
    "                # compute the loss per epoch\n",
    "                eval_loss_per_epoch /= len(eval_loader)\n",
    "                    \n",
    "                # Print the training and evaluation losses\n",
    "                print(f'Train Loss: {train_loss_per_epoch}')\n",
    "                print(f'Eval Loss: {eval_loss_per_epoch}')\n",
    "        \n",
    "        # Get the end time\n",
    "        end = time.time()\n",
    "        print(f'Time: {(end - start) / 60.0}')\n",
    "        \n",
    "        # Save train step losses\n",
    "        train_step_losses = pd.Series(train_step_losses)\n",
    "        train_step_losses.to_csv('train-step-losses.csv')"
   ]
  },
  {
   "cell_type": "code",
   "execution_count": 22,
   "metadata": {
    "id": "xlrBDQRzsyS1"
   },
   "outputs": [
    {
     "name": "stdout",
     "output_type": "stream",
     "text": [
      "Train Loss: 1.092692459291882\n",
      "Eval Loss: 0.7974587857119739\n",
      "Train Loss: 0.7103014185318924\n",
      "Eval Loss: 0.7634216941788793\n",
      "Train Loss: 0.5216155593415344\n",
      "Eval Loss: 0.8480326493486762\n",
      "Time: 180.44707897106807\n"
     ]
    }
   ],
   "source": [
    "from transformers import DefaultDataCollator\n",
    "import os\n",
    "data_collator = DefaultDataCollator()\n",
    "\n",
    "training_args = TrainingArguments(\n",
    "    output_dir=\"model_weights\",\n",
    "    evaluation_strategy=\"epoch\",\n",
    "    learning_rate=2e-5,\n",
    "    per_device_train_batch_size=4,\n",
    "    per_device_eval_batch_size=4,\n",
    "    num_train_epochs=3,\n",
    "    weight_decay=0.01,\n",
    "    push_to_hub=False,\n",
    ")\n",
    "\n",
    "trainer = CustomTrainer(\n",
    "    model=model,\n",
    "    args=training_args,\n",
    "    train_dataset=training_dataset,\n",
    "    eval_dataset=test_dataset,\n",
    "    tokenizer=tokenizer,\n",
    "    data_collator=data_collator,\n",
    ")\n",
    "\n",
    "trainer.train()"
   ]
  },
  {
   "cell_type": "code",
   "execution_count": 23,
   "metadata": {
    "id": "BHCippefvqry"
   },
   "outputs": [],
   "source": [
    "from transformers.data.metrics.squad_metrics import (\n",
    "    compute_predictions_log_probs,\n",
    "    compute_predictions_logits,\n",
    "    squad_evaluate,\n",
    ")\n",
    "from transformers.data.processors.squad import SquadResult\n",
    "import timeit\n",
    "\n",
    "def evaluate(output_dir, model, tokenizer, device, datasets, prefix=\"\"):\n",
    "    batch_size = 4\n",
    "    model_type = 'roberta'\n",
    "    dataset, examples, features = datasets\n",
    "\n",
    "    # Note that DistributedSampler samples randomly\n",
    "    eval_sampler = SequentialSampler(dataset)\n",
    "    eval_dataloader = DataLoader(dataset, sampler=eval_sampler, batch_size=batch_size)\n",
    "\n",
    "    # Eval!\n",
    "    logger.info(\"***** Running evaluation {} *****\".format(prefix))\n",
    "    logger.info(\"  Num examples = %d\", len(dataset))\n",
    "    logger.info(\"  Batch size = %d\", batch_size)\n",
    "\n",
    "    all_results = []\n",
    "    start_time = timeit.default_timer()\n",
    "\n",
    "    for batch in tqdm.tqdm(eval_dataloader, desc=\"Evaluating\"):\n",
    "        model.eval()\n",
    "        batch = tuple(t.to(device) for t in batch)\n",
    "\n",
    "        with torch.no_grad():\n",
    "            inputs = {\n",
    "                \"input_ids\": batch[0],\n",
    "                \"attention_mask\": batch[1],\n",
    "                \"token_type_ids\": batch[2],\n",
    "            }\n",
    "\n",
    "            if model_type in [\"xlm\", \"roberta\", \"distilbert\", \"camembert\", \"bart\", \"longformer\"]:\n",
    "                del inputs[\"token_type_ids\"]\n",
    "\n",
    "            feature_indices = batch[3]\n",
    "\n",
    "            # Get the predicted outputs\n",
    "            outputs = model(**inputs)\n",
    "\n",
    "        for i, feature_index in enumerate(feature_indices):\n",
    "            eval_feature = features[feature_index.item()]\n",
    "            unique_id = int(eval_feature.unique_id)\n",
    "\n",
    "            output = [to_list(output[i]) for output in outputs.to_tuple()]\n",
    "\n",
    "            # Some models (XLNet, XLM) use 5 arguments for their predictions, while the other \"simpler\"\n",
    "            # models only use two.\n",
    "            if len(output) >= 5:\n",
    "                start_logits = output[0]\n",
    "                start_top_index = output[1]\n",
    "                end_logits = output[2]\n",
    "                end_top_index = output[3]\n",
    "                cls_logits = output[4]\n",
    "\n",
    "                result = SquadResult(\n",
    "                    unique_id,\n",
    "                    start_logits,\n",
    "                    end_logits,\n",
    "                    start_top_index=start_top_index,\n",
    "                    end_top_index=end_top_index,\n",
    "                    cls_logits=cls_logits,\n",
    "                )\n",
    "\n",
    "            else:\n",
    "                start_logits, end_logits = output\n",
    "                result = SquadResult(unique_id, start_logits, end_logits)\n",
    "\n",
    "            all_results.append(result)\n",
    "\n",
    "    evalTime = timeit.default_timer() - start_time\n",
    "    logger.info(\"  Evaluation done in total %f secs (%f sec per example)\", evalTime, evalTime / len(dataset))\n",
    "\n",
    "    # Compute predictions\n",
    "    output_prediction_file = os.path.join(output_dir, \"predictions_{}.json\".format(prefix))\n",
    "    output_nbest_file = os.path.join(output_dir, \"nbest_predictions_{}.json\".format(prefix))\n",
    "    output_null_log_odds_file = os.path.join(output_dir, \"null_odds_{}.json\".format(prefix))\n",
    "\n",
    "    # TODO: Get defualt inputs for this function\n",
    "    predictions = compute_predictions_logits(\n",
    "        examples,\n",
    "        features,\n",
    "        all_results,\n",
    "        n_best_size=20,\n",
    "        max_answer_length=30,\n",
    "        do_lower_case=True,\n",
    "        output_prediction_file=output_prediction_file,\n",
    "        output_nbest_file=output_nbest_file,\n",
    "        output_null_log_odds_file=output_null_log_odds_file,\n",
    "        verbose_logging=False,\n",
    "        version_2_with_negative=True,\n",
    "        null_score_diff_threshold=0.0,\n",
    "        tokenizer=tokenizer,\n",
    "      )\n",
    "\n",
    "    # Compute the F1 and exact scores.\n",
    "    results = squad_evaluate(examples, predictions)\n",
    "    return results, examples, predictions"
   ]
  },
  {
   "cell_type": "code",
   "execution_count": 24,
   "metadata": {
    "id": "E_BK5QTx2cco"
   },
   "outputs": [],
   "source": [
    "validation_datasets = (validation_dataset, validation_examples, validation_features)"
   ]
  },
  {
   "cell_type": "code",
   "execution_count": 25,
   "metadata": {
    "id": "8TGBcosjbVO0"
   },
   "outputs": [
    {
     "name": "stdout",
     "output_type": "stream",
     "text": [
      " Homework_1_⚡️.ipynb  '(results).py'      train-step-losses.csv\r\n",
      " \u001b[0m\u001b[01;34mmodel_weights\u001b[0m/        \u001b[01;34msquad_data\u001b[0m/\r\n",
      " \u001b[01;34mprediction_outputs\u001b[0m/   train_dataset.pt\r\n"
     ]
    }
   ],
   "source": [
    "%mkdir -p prediction_outputs\n",
    "%ls"
   ]
  },
  {
   "cell_type": "code",
   "execution_count": 26,
   "metadata": {
    "id": "3XmpgnAdb_vX"
   },
   "outputs": [],
   "source": [
    "def to_list(tensor):\n",
    "    return tensor.detach().cpu().tolist()"
   ]
  },
  {
   "cell_type": "code",
   "execution_count": 27,
   "metadata": {
    "id": "ZfIJuoxEZ5-s"
   },
   "outputs": [
    {
     "name": "stderr",
     "output_type": "stream",
     "text": [
      "Evaluating: 100%|███████████████████████████████████████████████████████████████████████████████████████████████████████████████████████████████████████████████████████████| 3062/3062 [02:02<00:00, 24.96it/s]\n",
      "Writing predictions to: prediction_outputs/predictions_final_evaluation.json\n",
      "Writing nbest to: prediction_outputs/nbest_predictions_final_evaluation.json\n",
      "Writing null_log_odds to: prediction_outputs/null_odds_final_evaluation.json\n"
     ]
    }
   ],
   "source": [
    "import timeit\n",
    "import os\n",
    "from torch.utils.data import SequentialSampler\n",
    "\n",
    "results, examples, predictions = evaluate(\n",
    "    output_dir='prediction_outputs',\n",
    "    model=model,\n",
    "    tokenizer=tokenizer,\n",
    "    device=device,\n",
    "    datasets=validation_datasets,\n",
    "    prefix='final_evaluation'\n",
    ")"
   ]
  },
  {
   "cell_type": "code",
   "execution_count": 28,
   "metadata": {
    "id": "Jp8LWWz4dWgh"
   },
   "outputs": [
    {
     "data": {
      "text/plain": [
       "OrderedDict([('exact', 76.77082455992588),\n",
       "             ('f1', 80.39487190517924),\n",
       "             ('total', 11873),\n",
       "             ('HasAns_exact', 77.66531713900135),\n",
       "             ('HasAns_f1', 84.92380467783306),\n",
       "             ('HasAns_total', 5928),\n",
       "             ('NoAns_exact', 75.87888982338099),\n",
       "             ('NoAns_f1', 75.87888982338099),\n",
       "             ('NoAns_total', 5945),\n",
       "             ('best_exact', 76.77082455992588),\n",
       "             ('best_exact_thresh', 0.0),\n",
       "             ('best_f1', 80.39487190517916),\n",
       "             ('best_f1_thresh', 0.0)])"
      ]
     },
     "execution_count": 28,
     "metadata": {},
     "output_type": "execute_result"
    }
   ],
   "source": [
    "results"
   ]
  },
  {
   "cell_type": "code",
   "execution_count": 29,
   "metadata": {},
   "outputs": [],
   "source": [
    "losses = pd.read_csv('train-step-losses.csv')"
   ]
  },
  {
   "cell_type": "code",
   "execution_count": 40,
   "metadata": {},
   "outputs": [
    {
     "data": {
      "text/plain": [
       "<Axes: >"
      ]
     },
     "execution_count": 40,
     "metadata": {},
     "output_type": "execute_result"
    },
    {
     "data": {
      "image/png": "[encoded data removed]",
      "text/plain": [
       "<Figure size 640x480 with 1 Axes>"
      ]
     },
     "metadata": {},
     "output_type": "display_data"
    }
   ],
   "source": [
    "losses['0'].rolling(30).mean().dropna().plot()"
   ]
  },
  {
   "cell_type": "code",
   "execution_count": null,
   "metadata": {},
   "outputs": [],
   "source": []
  }
 ],
 "metadata": {
  "accelerator": "GPU",
  "colab": {
   "provenance": []
  },
  "gpuClass": "standard",
  "kernelspec": {
   "display_name": "Python 3 (ipykernel)",
   "language": "python",
   "name": "python3"
  },
  "language_info": {
   "codemirror_mode": {
    "name": "ipython",
    "version": 3
   },
   "file_extension": ".py",
   "mimetype": "text/x-python",
   "name": "python",
   "nbconvert_exporter": "python",
   "pygments_lexer": "ipython3",
   "version": "3.9.15"
  }
 },
 "nbformat": 4,
 "nbformat_minor": 1
}
