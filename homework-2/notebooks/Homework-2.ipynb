{
 "cells": [
  {
   "cell_type": "code",
   "execution_count": 1,
   "id": "44bb130e-53bf-4f84-8fe2-6634df2d1e83",
   "metadata": {},
   "outputs": [
    {
     "data": {
      "text/plain": [
       "'/Users/ryandevera/data-science/umn_environments/text-mining-titans/homework-2/notebooks'"
      ]
     },
     "execution_count": 1,
     "metadata": {},
     "output_type": "execute_result"
    }
   ],
   "source": [
    "%pwd"
   ]
  },
  {
   "cell_type": "code",
   "execution_count": 2,
   "id": "358d4105-4c21-4add-be40-c639ee4deb0b",
   "metadata": {},
   "outputs": [
    {
     "name": "stdout",
     "output_type": "stream",
     "text": [
      "/Users/ryandevera/data-science/umn_environments/text-mining-titans/homework-2\n"
     ]
    }
   ],
   "source": [
    "%cd .."
   ]
  },
  {
   "cell_type": "code",
   "execution_count": 3,
   "id": "d7b5d7fd-98a1-4724-b826-3b59ce223850",
   "metadata": {},
   "outputs": [
    {
     "name": "stdout",
     "output_type": "stream",
     "text": [
      "__init__.py    \u001b[1m\u001b[36m__pycache__\u001b[m\u001b[m/   classifier.py  \u001b[1m\u001b[36mdata\u001b[m\u001b[m/          \u001b[1m\u001b[36mnotebooks\u001b[m\u001b[m/\n"
     ]
    }
   ],
   "source": [
    "%ls"
   ]
  },
  {
   "cell_type": "code",
   "execution_count": 4,
   "id": "47e89294-bc35-4fe3-86e8-f21edea27e59",
   "metadata": {},
   "outputs": [],
   "source": [
    "from classifier import load_data, train, predict\n",
    "import pandas as pd"
   ]
  },
  {
   "cell_type": "code",
   "execution_count": 5,
   "id": "4f71a6ea-25f1-4bdb-aa07-79108b20ed88",
   "metadata": {},
   "outputs": [],
   "source": [
    "train_data, test_data, authorlist = load_data(split='sentence')"
   ]
  },
  {
   "cell_type": "code",
   "execution_count": 6,
   "id": "c9ad7a71-83d9-4a4a-8cd0-80ae79538973",
   "metadata": {},
   "outputs": [
    {
     "data": {
      "text/plain": [
       "<Axes: >"
      ]
     },
     "execution_count": 6,
     "metadata": {},
     "output_type": "execute_result"
    },
    {
     "data": {
      "image/png": "[encoded data removed]",
      "text/plain": [
       "<Figure size 640x480 with 1 Axes>"
      ]
     },
     "metadata": {},
     "output_type": "display_data"
    }
   ],
   "source": [
    "train_data['author'].value_counts(normalize=True).plot(kind='bar')"
   ]
  },
  {
   "cell_type": "code",
   "execution_count": 7,
   "id": "815306ad-205d-4926-ac5b-3212f7d56abe",
   "metadata": {},
   "outputs": [],
   "source": [
    "models = train(train_data, authorlist, model_type='WittenBellInterpolated', n=3)"
   ]
  },
  {
   "cell_type": "code",
   "execution_count": 8,
   "id": "fe208fc9-a047-4e7a-82ad-9d7b013c5fa5",
   "metadata": {},
   "outputs": [
    {
     "data": {
      "text/plain": [
       "{'wilde': <classifier.WittenBellInterpolated at 0x147a2c9a0>,\n",
       " 'austen': <classifier.WittenBellInterpolated at 0x146034670>,\n",
       " 'tolstoy': <classifier.WittenBellInterpolated at 0x14b52cee0>,\n",
       " 'dickens': <classifier.WittenBellInterpolated at 0x1480d2100>,\n",
       " 'attributes': {'tokenizer': RegexpTokenizer(pattern='\\\\w+', gaps=False, discard_empty=True, flags=re.UNICODE|re.MULTILINE|re.DOTALL),\n",
       "  'n': 3}}"
      ]
     },
     "execution_count": 8,
     "metadata": {},
     "output_type": "execute_result"
    }
   ],
   "source": [
    "models"
   ]
  },
  {
   "cell_type": "code",
   "execution_count": 9,
   "id": "2e30ab99-c8a4-44d3-ae9f-bc4d0110b0ca",
   "metadata": {},
   "outputs": [
    {
     "data": {
      "text/plain": [
       "{'wilde': <classifier.WittenBellInterpolated at 0x147a2c9a0>,\n",
       " 'austen': <classifier.WittenBellInterpolated at 0x146034670>,\n",
       " 'tolstoy': <classifier.WittenBellInterpolated at 0x14b52cee0>,\n",
       " 'dickens': <classifier.WittenBellInterpolated at 0x1480d2100>,\n",
       " 'attributes': {'tokenizer': RegexpTokenizer(pattern='\\\\w+', gaps=False, discard_empty=True, flags=re.UNICODE|re.MULTILINE|re.DOTALL),\n",
       "  'n': 3}}"
      ]
     },
     "execution_count": 9,
     "metadata": {},
     "output_type": "execute_result"
    }
   ],
   "source": [
    "models"
   ]
  },
  {
   "cell_type": "code",
   "execution_count": 10,
   "id": "de167b46-b8f8-4f5e-acd3-27af4c855fc0",
   "metadata": {},
   "outputs": [
    {
     "data": {
      "text/plain": [
       "['wilde', 'austen', 'tolstoy', 'dickens', 'attributes']"
      ]
     },
     "execution_count": 10,
     "metadata": {},
     "output_type": "execute_result"
    }
   ],
   "source": [
    "list(models.keys())"
   ]
  },
  {
   "cell_type": "code",
   "execution_count": 11,
   "id": "8eb22130-2432-4aee-95fc-8394f8d4b938",
   "metadata": {},
   "outputs": [
    {
     "name": "stdout",
     "output_type": "stream",
     "text": [
      "Accuracy for wilde = 0.7543520309477756\n",
      "Accuracy for austen = 0.8442437923250564\n",
      "Accuracy for tolstoy = 0.8804960541149943\n",
      "Accuracy for dickens = 0.793036750483559\n",
      "Overall accuracy = 0.8269881556683587\n"
     ]
    }
   ],
   "source": [
    "predictions, labels = predict(test_data, authorlist, models)"
   ]
  }
 ],
 "metadata": {
  "kernelspec": {
   "display_name": "text-mining-titans",
   "language": "python",
   "name": "text-mining-titans"
  },
  "language_info": {
   "codemirror_mode": {
    "name": "ipython",
    "version": 3
   },
   "file_extension": ".py",
   "mimetype": "text/x-python",
   "name": "python",
   "nbconvert_exporter": "python",
   "pygments_lexer": "ipython3",
   "version": "3.9.11"
  }
 },
 "nbformat": 4,
 "nbformat_minor": 5
}
