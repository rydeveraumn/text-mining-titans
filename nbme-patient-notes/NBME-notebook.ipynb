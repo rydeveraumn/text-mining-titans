{
 "cells": [
  {
   "cell_type": "code",
   "execution_count": 1,
   "id": "a79709f5-bdd0-4b3f-a43a-688d6b34aa74",
   "metadata": {
    "tags": []
   },
   "outputs": [
    {
     "data": {
      "text/plain": [
       "'/home/rydevera3/data-science/text-mining-titans/nbme-patient-notes'"
      ]
     },
     "execution_count": 1,
     "metadata": {},
     "output_type": "execute_result"
    }
   ],
   "source": [
    "%pwd"
   ]
  },
  {
   "cell_type": "code",
   "execution_count": 2,
   "id": "996b37c6-6676-4dc2-bf32-0cd58640b43f",
   "metadata": {
    "tags": []
   },
   "outputs": [
    {
     "name": "stderr",
     "output_type": "stream",
     "text": [
      "/home/rydevera3/.virtualenvs/text-mining-titans/lib/python3.9/site-packages/tqdm/auto.py:21: TqdmWarning: IProgress not found. Please update jupyter and ipywidgets. See https://ipywidgets.readthedocs.io/en/stable/user_install.html\n",
      "  from .autonotebook import tqdm as notebook_tqdm\n",
      "Special tokens have been added in the vocabulary, make sure the associated word embeddings are fine-tuned or trained.\n",
      "/home/rydevera3/.virtualenvs/text-mining-titans/lib/python3.9/site-packages/transformers/convert_slow_tokenizer.py:446: UserWarning: The sentencepiece tokenizer that you are converting to a fast tokenizer uses the byte fallback option which is not implemented in the fast tokenizers. In practice this means that the fast version of the tokenizer can produce unknown tokens whereas the sentencepiece version would have converted these unknown tokens into a sequence of byte tokens matching the original piece of text.\n",
      "  warnings.warn(\n",
      "Special tokens have been added in the vocabulary, make sure the associated word embeddings are fine-tuned or trained.\n"
     ]
    }
   ],
   "source": [
    "import torch\n",
    "import torch.nn as nn\n",
    "import torch.optim as optim\n",
    "import tqdm\n",
    "from torch.utils.data import DataLoader\n",
    "\n",
    "from data import NBMEDataset, load_training_data\n",
    "from model import NBMEModel\n",
    "from utils import (\n",
    "    Configuration,\n",
    "    create_labels_for_scoring,\n",
    "    get_character_probabilities,\n",
    "    get_predictions,\n",
    "    get_thresholded_sequences,\n",
    "    get_score,\n",
    "    training_function,\n",
    "    validation_function,\n",
    ")"
   ]
  },
  {
   "cell_type": "code",
   "execution_count": 3,
   "id": "20cfc213-2357-4f8b-9b3f-782bcd06d9a2",
   "metadata": {},
   "outputs": [
    {
     "name": "stderr",
     "output_type": "stream",
     "text": [
      "Some weights of the model checkpoint at microsoft/deberta-v3-base were not used when initializing DebertaV2Model: ['lm_predictions.lm_head.LayerNorm.bias', 'mask_predictions.dense.weight', 'mask_predictions.dense.bias', 'mask_predictions.classifier.bias', 'lm_predictions.lm_head.dense.bias', 'lm_predictions.lm_head.LayerNorm.weight', 'mask_predictions.LayerNorm.weight', 'lm_predictions.lm_head.dense.weight', 'mask_predictions.LayerNorm.bias', 'mask_predictions.classifier.weight', 'lm_predictions.lm_head.bias']\n",
      "- This IS expected if you are initializing DebertaV2Model from the checkpoint of a model trained on another task or with another architecture (e.g. initializing a BertForSequenceClassification model from a BertForPreTraining model).\n",
      "- This IS NOT expected if you are initializing DebertaV2Model from the checkpoint of a model that you expect to be exactly identical (initializing a BertForSequenceClassification model from a BertForSequenceClassification model).\n",
      "1430it [06:36,  3.60it/s]\n",
      "358it [00:53,  6.65it/s]\n"
     ]
    },
    {
     "name": "stdout",
     "output_type": "stream",
     "text": [
      "0.8210371540210479\n"
     ]
    },
    {
     "name": "stderr",
     "output_type": "stream",
     "text": [
      "1430it [06:37,  3.60it/s]\n",
      "358it [00:53,  6.66it/s]\n"
     ]
    },
    {
     "name": "stdout",
     "output_type": "stream",
     "text": [
      "0.8478710364381493\n"
     ]
    },
    {
     "name": "stderr",
     "output_type": "stream",
     "text": [
      "1430it [06:35,  3.61it/s]\n",
      "358it [00:53,  6.65it/s]\n"
     ]
    },
    {
     "name": "stdout",
     "output_type": "stream",
     "text": [
      "0.8576069851261484\n"
     ]
    },
    {
     "name": "stderr",
     "output_type": "stream",
     "text": [
      "1430it [06:36,  3.61it/s]\n",
      "358it [00:53,  6.68it/s]\n"
     ]
    },
    {
     "name": "stdout",
     "output_type": "stream",
     "text": [
      "0.8540243210576947\n"
     ]
    },
    {
     "name": "stderr",
     "output_type": "stream",
     "text": [
      "1430it [06:36,  3.61it/s]\n",
      "358it [00:53,  6.67it/s]\n"
     ]
    },
    {
     "name": "stdout",
     "output_type": "stream",
     "text": [
      "0.861051495412729\n"
     ]
    },
    {
     "name": "stderr",
     "output_type": "stream",
     "text": [
      "1430it [06:36,  3.60it/s]\n",
      "358it [00:53,  6.65it/s]\n"
     ]
    },
    {
     "name": "stdout",
     "output_type": "stream",
     "text": [
      "0.8611132817587456\n"
     ]
    },
    {
     "name": "stderr",
     "output_type": "stream",
     "text": [
      "1430it [06:37,  3.60it/s]\n",
      "358it [00:53,  6.68it/s]\n"
     ]
    },
    {
     "name": "stdout",
     "output_type": "stream",
     "text": [
      "0.8582820743478156\n"
     ]
    },
    {
     "name": "stderr",
     "output_type": "stream",
     "text": [
      "1430it [06:36,  3.61it/s]\n",
      "358it [00:53,  6.67it/s]\n"
     ]
    },
    {
     "name": "stdout",
     "output_type": "stream",
     "text": [
      "0.8627476022017599\n"
     ]
    },
    {
     "name": "stderr",
     "output_type": "stream",
     "text": [
      "1430it [06:36,  3.61it/s]\n",
      "358it [00:53,  6.67it/s]\n"
     ]
    },
    {
     "name": "stdout",
     "output_type": "stream",
     "text": [
      "0.8644190018343982\n"
     ]
    },
    {
     "name": "stderr",
     "output_type": "stream",
     "text": [
      "1430it [06:36,  3.61it/s]\n",
      "358it [00:53,  6.67it/s]\n"
     ]
    },
    {
     "name": "stdout",
     "output_type": "stream",
     "text": [
      "0.8628322586480933\n"
     ]
    },
    {
     "name": "stderr",
     "output_type": "stream",
     "text": [
      "1430it [06:36,  3.61it/s]\n",
      "358it [00:53,  6.66it/s]\n"
     ]
    },
    {
     "name": "stdout",
     "output_type": "stream",
     "text": [
      "0.8597984127181889\n"
     ]
    },
    {
     "name": "stderr",
     "output_type": "stream",
     "text": [
      "1430it [06:36,  3.61it/s]\n",
      "358it [00:53,  6.67it/s]\n"
     ]
    },
    {
     "name": "stdout",
     "output_type": "stream",
     "text": [
      "0.8581267554035901\n"
     ]
    },
    {
     "name": "stderr",
     "output_type": "stream",
     "text": [
      "1430it [06:36,  3.60it/s]\n",
      "358it [00:53,  6.66it/s]\n"
     ]
    },
    {
     "name": "stdout",
     "output_type": "stream",
     "text": [
      "0.8631076724693747\n"
     ]
    },
    {
     "name": "stderr",
     "output_type": "stream",
     "text": [
      "1430it [06:36,  3.61it/s]\n",
      "358it [00:53,  6.66it/s]\n"
     ]
    },
    {
     "name": "stdout",
     "output_type": "stream",
     "text": [
      "0.8627729130933804\n"
     ]
    },
    {
     "name": "stderr",
     "output_type": "stream",
     "text": [
      "1430it [06:36,  3.60it/s]\n",
      "358it [00:53,  6.65it/s]\n"
     ]
    },
    {
     "name": "stdout",
     "output_type": "stream",
     "text": [
      "0.8618494851337895\n"
     ]
    }
   ],
   "source": [
    "# Load in the data\n",
    "config = Configuration()\n",
    "data = load_training_data(config=config)\n",
    "device = torch.device('cuda:1') if torch.cuda.is_available() else torch.device('cpu')\n",
    "\n",
    "# Get training and validation data\n",
    "train_df = data.loc[data['fold_number'] != 4].reset_index(drop=True)\n",
    "valid_df = data.loc[data['fold_number'] == 4].reset_index(drop=True)\n",
    "valid_patient_notes_texts = valid_df['pn_history'].values\n",
    "valid_labels = valid_df['location'].apply(create_labels_for_scoring)\n",
    "\n",
    "# Create the datasets and data loaders\n",
    "training_dataset = NBMEDataset(train_df, config)\n",
    "valid_dataset = NBMEDataset(valid_df, config)\n",
    "\n",
    "# Training loaders\n",
    "train_loader = DataLoader(training_dataset, batch_size=8, shuffle=True, pin_memory=True, drop_last=True)\n",
    "valid_loader = DataLoader(valid_dataset, batch_size=8, shuffle=False, pin_memory=True, drop_last=False)\n",
    "\n",
    "# Get the loss and optimizers and model\n",
    "model = NBMEModel(config=config)\n",
    "model = model.to(device=device)\n",
    "\n",
    "criterion = nn.BCEWithLogitsLoss(reduction='none')\n",
    "optimizer = optim.AdamW(model.parameters(), lr=1e-5)\n",
    "\n",
    "# TODO: still need to make training function and validation\n",
    "for epoch in range(15):\n",
    "    training_function(\n",
    "        config=config,\n",
    "        train_loader=train_loader,\n",
    "        model=model,\n",
    "        criterion=criterion,\n",
    "        optimizer=optimizer,\n",
    "        scheduler=None,\n",
    "        device=device,\n",
    "    )\n",
    "\n",
    "    # Get the probability outputs\n",
    "    predictions, labels = validation_function(\n",
    "        config, valid_loader, model, device\n",
    "    )\n",
    "\n",
    "    # Reshape the predictions and labels\n",
    "    samples = len(valid_df)\n",
    "    predictions = predictions.reshape((samples, config.max_length))\n",
    "    labels = labels.reshape((samples, config.max_length))\n",
    "\n",
    "    # Get character probabilities\n",
    "    character_probabilities = get_character_probabilities(\n",
    "        valid_patient_notes_texts,\n",
    "        predictions,\n",
    "        config\n",
    "    )\n",
    "\n",
    "    # Get results\n",
    "    results = get_thresholded_sequences(character_probabilities)\n",
    "    preds = get_predictions(results)\n",
    "    score = get_score(valid_labels, preds)\n",
    "    print(score)"
   ]
  },
  {
   "cell_type": "code",
   "execution_count": 4,
   "id": "325f11a0-9fb0-448e-9a99-dbf1e66343db",
   "metadata": {
    "tags": []
   },
   "outputs": [],
   "source": [
    "from data import build_nbme_labels"
   ]
  },
  {
   "cell_type": "code",
   "execution_count": 5,
   "id": "bf2c8d90-9699-486a-a2c2-f4e1c71e0491",
   "metadata": {
    "tags": []
   },
   "outputs": [
    {
     "data": {
      "text/html": [
       "<div>\n",
       "<style scoped>\n",
       "    .dataframe tbody tr th:only-of-type {\n",
       "        vertical-align: middle;\n",
       "    }\n",
       "\n",
       "    .dataframe tbody tr th {\n",
       "        vertical-align: top;\n",
       "    }\n",
       "\n",
       "    .dataframe thead th {\n",
       "        text-align: right;\n",
       "    }\n",
       "</style>\n",
       "<table border=\"1\" class=\"dataframe\">\n",
       "  <thead>\n",
       "    <tr style=\"text-align: right;\">\n",
       "      <th></th>\n",
       "      <th>id</th>\n",
       "      <th>case_num</th>\n",
       "      <th>pn_num</th>\n",
       "      <th>feature_num</th>\n",
       "      <th>annotation</th>\n",
       "      <th>location</th>\n",
       "      <th>feature_text</th>\n",
       "      <th>pn_history</th>\n",
       "      <th>annotation_length</th>\n",
       "      <th>fold_number</th>\n",
       "    </tr>\n",
       "  </thead>\n",
       "  <tbody>\n",
       "    <tr>\n",
       "      <th>0</th>\n",
       "      <td>00016_000</td>\n",
       "      <td>0</td>\n",
       "      <td>16</td>\n",
       "      <td>0</td>\n",
       "      <td>[dad with recent heart attcak]</td>\n",
       "      <td>[696 724]</td>\n",
       "      <td>Family-history-of-MI-OR-Family-history-of-myoc...</td>\n",
       "      <td>HPI: 17yo M presents with palpitations. Patien...</td>\n",
       "      <td>1</td>\n",
       "      <td>4</td>\n",
       "    </tr>\n",
       "    <tr>\n",
       "      <th>1</th>\n",
       "      <td>00016_001</td>\n",
       "      <td>0</td>\n",
       "      <td>16</td>\n",
       "      <td>1</td>\n",
       "      <td>[mom with \"thyroid disease]</td>\n",
       "      <td>[668 693]</td>\n",
       "      <td>Family-history-of-thyroid-disorder</td>\n",
       "      <td>HPI: 17yo M presents with palpitations. Patien...</td>\n",
       "      <td>1</td>\n",
       "      <td>4</td>\n",
       "    </tr>\n",
       "    <tr>\n",
       "      <th>2</th>\n",
       "      <td>00016_002</td>\n",
       "      <td>0</td>\n",
       "      <td>16</td>\n",
       "      <td>2</td>\n",
       "      <td>[chest pressure]</td>\n",
       "      <td>[203 217]</td>\n",
       "      <td>Chest-pressure</td>\n",
       "      <td>HPI: 17yo M presents with palpitations. Patien...</td>\n",
       "      <td>1</td>\n",
       "      <td>4</td>\n",
       "    </tr>\n",
       "    <tr>\n",
       "      <th>3</th>\n",
       "      <td>00016_003</td>\n",
       "      <td>0</td>\n",
       "      <td>16</td>\n",
       "      <td>3</td>\n",
       "      <td>[intermittent episodes, episode]</td>\n",
       "      <td>[70 91, 176 183]</td>\n",
       "      <td>Intermittent-symptoms</td>\n",
       "      <td>HPI: 17yo M presents with palpitations. Patien...</td>\n",
       "      <td>2</td>\n",
       "      <td>4</td>\n",
       "    </tr>\n",
       "    <tr>\n",
       "      <th>4</th>\n",
       "      <td>00016_004</td>\n",
       "      <td>0</td>\n",
       "      <td>16</td>\n",
       "      <td>4</td>\n",
       "      <td>[felt as if he were going to pass out]</td>\n",
       "      <td>[222 258]</td>\n",
       "      <td>Lightheaded</td>\n",
       "      <td>HPI: 17yo M presents with palpitations. Patien...</td>\n",
       "      <td>1</td>\n",
       "      <td>4</td>\n",
       "    </tr>\n",
       "  </tbody>\n",
       "</table>\n",
       "</div>"
      ],
      "text/plain": [
       "          id  case_num  pn_num  feature_num   \n",
       "0  00016_000         0      16            0  \\\n",
       "1  00016_001         0      16            1   \n",
       "2  00016_002         0      16            2   \n",
       "3  00016_003         0      16            3   \n",
       "4  00016_004         0      16            4   \n",
       "\n",
       "                               annotation          location   \n",
       "0          [dad with recent heart attcak]         [696 724]  \\\n",
       "1             [mom with \"thyroid disease]         [668 693]   \n",
       "2                        [chest pressure]         [203 217]   \n",
       "3        [intermittent episodes, episode]  [70 91, 176 183]   \n",
       "4  [felt as if he were going to pass out]         [222 258]   \n",
       "\n",
       "                                        feature_text   \n",
       "0  Family-history-of-MI-OR-Family-history-of-myoc...  \\\n",
       "1                 Family-history-of-thyroid-disorder   \n",
       "2                                     Chest-pressure   \n",
       "3                              Intermittent-symptoms   \n",
       "4                                        Lightheaded   \n",
       "\n",
       "                                          pn_history  annotation_length   \n",
       "0  HPI: 17yo M presents with palpitations. Patien...                  1  \\\n",
       "1  HPI: 17yo M presents with palpitations. Patien...                  1   \n",
       "2  HPI: 17yo M presents with palpitations. Patien...                  1   \n",
       "3  HPI: 17yo M presents with palpitations. Patien...                  2   \n",
       "4  HPI: 17yo M presents with palpitations. Patien...                  1   \n",
       "\n",
       "   fold_number  \n",
       "0            4  \n",
       "1            4  \n",
       "2            4  \n",
       "3            4  \n",
       "4            4  "
      ]
     },
     "execution_count": 5,
     "metadata": {},
     "output_type": "execute_result"
    }
   ],
   "source": [
    "valid_df.head()"
   ]
  },
  {
   "cell_type": "code",
   "execution_count": 6,
   "id": "859c4825-7bad-4752-856f-3ad363058739",
   "metadata": {
    "tags": []
   },
   "outputs": [],
   "source": [
    "index = 1\n",
    "text = valid_df['pn_history'].values[index]\n",
    "location = valid_df['location'].values[index]\n",
    "annotation_length = valid_df['annotation_length'].values[index]"
   ]
  },
  {
   "cell_type": "code",
   "execution_count": 7,
   "id": "ec7b1066-a787-4c06-9eee-269dbf648db5",
   "metadata": {
    "tags": []
   },
   "outputs": [],
   "source": [
    "labels = build_nbme_labels(config, text, annotation_length, location)"
   ]
  },
  {
   "cell_type": "code",
   "execution_count": 8,
   "id": "3af77f5d-939d-4204-8164-f20f0ea8b33d",
   "metadata": {
    "tags": []
   },
   "outputs": [],
   "source": [
    "encoded = config.tokenizer(\n",
    "    text,\n",
    "    add_special_tokens=True,\n",
    "    max_length=config.max_length,\n",
    "    padding='max_length',\n",
    "    return_offsets_mapping=True\n",
    ")"
   ]
  },
  {
   "cell_type": "code",
   "execution_count": 9,
   "id": "a47400da-5994-4d66-8d6b-9389dba5a10b",
   "metadata": {
    "tags": []
   },
   "outputs": [
    {
     "data": {
      "text/plain": [
       "'HPI: 17yo M presents with palpitations. Patient reports 3-4 months of intermittent episodes of \"heart beating/pounding out of my chest.\" 2 days ago during a soccer game had an episode, but this time had chest pressure and felt as if he were going to pass out (did not lose conciousness). Of note patient endorses abusing adderall, primarily to study (1-3 times per week). Before recent soccer game, took adderrall night before and morning of game. Denies shortness of breath, diaphoresis, fevers, chills, headache, fatigue, changes in sleep, changes in vision/hearing, abdominal paun, changes in bowel or urinary habits. \\r\\nPMHx: none\\r\\nRx: uses friends adderrall\\r\\nFHx: mom with \"thyroid disease,\" dad with recent heart attcak\\r\\nAll: none\\r\\nImmunizations: up to date\\r\\nSHx: Freshmen in college. Endorses 3-4 drinks 3 nights / week (on weekends), denies tabacco, endorses trying marijuana. Sexually active with girlfriend x 1 year, uses condoms'"
      ]
     },
     "execution_count": 9,
     "metadata": {},
     "output_type": "execute_result"
    }
   ],
   "source": [
    "text"
   ]
  },
  {
   "cell_type": "code",
   "execution_count": 10,
   "id": "085b140a-0ccd-4cdf-b518-1cbcb33af48a",
   "metadata": {
    "tags": []
   },
   "outputs": [
    {
     "data": {
      "text/plain": [
       "array(['▁mom', '▁with', '▁\"', 'thyroid', '▁disease'], dtype='<U13')"
      ]
     },
     "execution_count": 10,
     "metadata": {},
     "output_type": "execute_result"
    }
   ],
   "source": [
    "import numpy as np\n",
    "np.array(encoded.tokens())[labels == 1]"
   ]
  },
  {
   "cell_type": "code",
   "execution_count": 11,
   "id": "be5d79f2-0ab0-4204-82c6-042527992069",
   "metadata": {
    "tags": []
   },
   "outputs": [
    {
     "data": {
      "text/plain": [
       "['668 693']"
      ]
     },
     "execution_count": 11,
     "metadata": {},
     "output_type": "execute_result"
    }
   ],
   "source": [
    "location"
   ]
  },
  {
   "cell_type": "code",
   "execution_count": 12,
   "id": "04eb94d2-3f1f-49b6-a8e2-ae8119ca1975",
   "metadata": {
    "tags": []
   },
   "outputs": [
    {
     "data": {
      "text/plain": [
       "[(0, 0),\n",
       " (0, 2),\n",
       " (2, 3),\n",
       " (3, 4),\n",
       " (4, 7),\n",
       " (7, 9),\n",
       " (9, 11),\n",
       " (11, 20),\n",
       " (20, 25),\n",
       " (25, 38),\n",
       " (38, 39),\n",
       " (39, 47),\n",
       " (47, 55),\n",
       " (55, 57),\n",
       " (57, 58),\n",
       " (58, 59),\n",
       " (59, 66),\n",
       " (66, 69),\n",
       " (69, 82),\n",
       " (82, 91),\n",
       " (91, 94),\n",
       " (94, 96),\n",
       " (96, 101),\n",
       " (101, 109),\n",
       " (109, 110),\n",
       " (110, 118),\n",
       " (118, 122),\n",
       " (122, 125),\n",
       " (125, 128),\n",
       " (128, 134),\n",
       " (134, 135),\n",
       " (135, 136),\n",
       " (136, 138),\n",
       " (138, 143),\n",
       " (143, 147),\n",
       " (147, 154),\n",
       " (154, 156),\n",
       " (156, 163),\n",
       " (163, 168),\n",
       " (168, 172),\n",
       " (172, 175),\n",
       " (175, 183),\n",
       " (183, 184),\n",
       " (184, 188),\n",
       " (188, 193),\n",
       " (193, 198),\n",
       " (198, 202),\n",
       " (202, 208),\n",
       " (208, 217),\n",
       " (217, 221),\n",
       " (221, 226),\n",
       " (226, 229),\n",
       " (229, 232),\n",
       " (232, 235),\n",
       " (235, 240),\n",
       " (240, 246),\n",
       " (246, 249),\n",
       " (249, 254),\n",
       " (254, 258),\n",
       " (258, 260),\n",
       " (260, 263),\n",
       " (263, 267),\n",
       " (267, 272),\n",
       " (272, 281),\n",
       " (281, 285),\n",
       " (285, 286),\n",
       " (286, 287),\n",
       " (287, 290),\n",
       " (290, 295),\n",
       " (295, 303),\n",
       " (303, 312),\n",
       " (312, 320),\n",
       " (320, 329),\n",
       " (329, 330),\n",
       " (330, 340),\n",
       " (340, 343),\n",
       " (343, 349),\n",
       " (349, 351),\n",
       " (351, 352),\n",
       " (352, 353),\n",
       " (353, 354),\n",
       " (354, 360),\n",
       " (360, 364),\n",
       " (364, 369),\n",
       " (369, 370),\n",
       " (370, 371),\n",
       " (371, 378),\n",
       " (378, 385),\n",
       " (385, 392),\n",
       " (392, 397),\n",
       " (397, 398),\n",
       " (398, 403),\n",
       " (403, 407),\n",
       " (407, 411),\n",
       " (411, 413),\n",
       " (413, 419),\n",
       " (419, 426),\n",
       " (426, 430),\n",
       " (430, 438),\n",
       " (438, 441),\n",
       " (441, 446),\n",
       " (446, 447),\n",
       " (447, 451),\n",
       " (451, 454),\n",
       " (454, 464),\n",
       " (464, 467),\n",
       " (467, 474),\n",
       " (474, 475),\n",
       " (475, 479),\n",
       " (479, 487),\n",
       " (487, 488),\n",
       " (488, 494),\n",
       " (494, 495),\n",
       " (495, 496),\n",
       " (496, 503),\n",
       " (503, 504),\n",
       " (504, 513),\n",
       " (513, 514),\n",
       " (514, 522),\n",
       " (522, 523),\n",
       " (523, 531),\n",
       " (531, 534),\n",
       " (534, 540),\n",
       " (540, 541),\n",
       " (541, 549),\n",
       " (549, 552),\n",
       " (552, 559),\n",
       " (559, 560),\n",
       " (560, 567),\n",
       " (567, 568),\n",
       " (568, 578),\n",
       " (578, 581),\n",
       " (581, 583),\n",
       " (583, 584),\n",
       " (584, 592),\n",
       " (592, 595),\n",
       " (595, 601),\n",
       " (601, 604),\n",
       " (604, 612),\n",
       " (612, 619),\n",
       " (619, 620),\n",
       " (621, 625),\n",
       " (625, 626),\n",
       " (626, 627),\n",
       " (627, 628),\n",
       " (628, 633),\n",
       " (633, 637),\n",
       " (637, 638),\n",
       " (638, 643),\n",
       " (643, 651),\n",
       " (651, 655),\n",
       " (655, 659),\n",
       " (659, 661),\n",
       " (661, 665),\n",
       " (665, 666),\n",
       " (666, 667),\n",
       " (667, 671),\n",
       " (671, 676),\n",
       " (676, 678),\n",
       " (678, 685),\n",
       " (685, 693),\n",
       " (693, 694),\n",
       " (694, 695),\n",
       " (695, 699),\n",
       " (699, 704),\n",
       " (704, 711),\n",
       " (711, 717),\n",
       " (717, 720),\n",
       " (720, 721),\n",
       " (721, 724),\n",
       " (724, 729),\n",
       " (729, 730),\n",
       " (730, 735),\n",
       " (735, 749),\n",
       " (749, 750),\n",
       " (750, 751),\n",
       " (751, 754),\n",
       " (754, 757),\n",
       " (757, 762),\n",
       " (762, 766),\n",
       " (766, 767),\n",
       " (767, 768),\n",
       " (768, 777),\n",
       " (777, 780),\n",
       " (780, 788),\n",
       " (788, 789),\n",
       " (789, 795),\n",
       " (795, 798),\n",
       " (798, 800),\n",
       " (800, 801),\n",
       " (801, 802),\n",
       " (802, 809),\n",
       " (809, 811),\n",
       " (811, 818),\n",
       " (818, 820),\n",
       " (820, 825),\n",
       " (825, 827),\n",
       " (827, 829),\n",
       " (829, 838),\n",
       " (838, 839),\n",
       " (839, 840),\n",
       " (840, 847),\n",
       " (847, 851),\n",
       " (851, 855),\n",
       " (855, 856),\n",
       " (856, 865),\n",
       " (865, 872),\n",
       " (872, 882),\n",
       " (882, 883),\n",
       " (883, 892),\n",
       " (892, 899),\n",
       " (899, 904),\n",
       " (904, 915),\n",
       " (915, 917),\n",
       " (917, 919),\n",
       " (919, 924),\n",
       " (924, 925),\n",
       " (925, 930),\n",
       " (930, 938),\n",
       " (0, 0),\n",
       " (0, 0),\n",
       " (0, 0),\n",
       " (0, 0),\n",
       " (0, 0),\n",
       " (0, 0),\n",
       " (0, 0),\n",
       " (0, 0),\n",
       " (0, 0),\n",
       " (0, 0),\n",
       " (0, 0),\n",
       " (0, 0),\n",
       " (0, 0),\n",
       " (0, 0),\n",
       " (0, 0),\n",
       " (0, 0),\n",
       " (0, 0),\n",
       " (0, 0),\n",
       " (0, 0),\n",
       " (0, 0),\n",
       " (0, 0),\n",
       " (0, 0),\n",
       " (0, 0),\n",
       " (0, 0),\n",
       " (0, 0),\n",
       " (0, 0),\n",
       " (0, 0),\n",
       " (0, 0),\n",
       " (0, 0),\n",
       " (0, 0),\n",
       " (0, 0),\n",
       " (0, 0),\n",
       " (0, 0),\n",
       " (0, 0),\n",
       " (0, 0),\n",
       " (0, 0),\n",
       " (0, 0),\n",
       " (0, 0),\n",
       " (0, 0),\n",
       " (0, 0),\n",
       " (0, 0),\n",
       " (0, 0),\n",
       " (0, 0),\n",
       " (0, 0),\n",
       " (0, 0),\n",
       " (0, 0),\n",
       " (0, 0),\n",
       " (0, 0),\n",
       " (0, 0),\n",
       " (0, 0),\n",
       " (0, 0),\n",
       " (0, 0),\n",
       " (0, 0),\n",
       " (0, 0),\n",
       " (0, 0),\n",
       " (0, 0),\n",
       " (0, 0),\n",
       " (0, 0),\n",
       " (0, 0),\n",
       " (0, 0),\n",
       " (0, 0),\n",
       " (0, 0),\n",
       " (0, 0),\n",
       " (0, 0),\n",
       " (0, 0),\n",
       " (0, 0),\n",
       " (0, 0),\n",
       " (0, 0),\n",
       " (0, 0),\n",
       " (0, 0),\n",
       " (0, 0),\n",
       " (0, 0),\n",
       " (0, 0),\n",
       " (0, 0),\n",
       " (0, 0),\n",
       " (0, 0),\n",
       " (0, 0),\n",
       " (0, 0),\n",
       " (0, 0),\n",
       " (0, 0),\n",
       " (0, 0),\n",
       " (0, 0),\n",
       " (0, 0),\n",
       " (0, 0),\n",
       " (0, 0),\n",
       " (0, 0),\n",
       " (0, 0),\n",
       " (0, 0),\n",
       " (0, 0),\n",
       " (0, 0),\n",
       " (0, 0),\n",
       " (0, 0),\n",
       " (0, 0),\n",
       " (0, 0),\n",
       " (0, 0),\n",
       " (0, 0),\n",
       " (0, 0),\n",
       " (0, 0),\n",
       " (0, 0),\n",
       " (0, 0),\n",
       " (0, 0),\n",
       " (0, 0),\n",
       " (0, 0),\n",
       " (0, 0),\n",
       " (0, 0),\n",
       " (0, 0),\n",
       " (0, 0),\n",
       " (0, 0),\n",
       " (0, 0),\n",
       " (0, 0),\n",
       " (0, 0),\n",
       " (0, 0),\n",
       " (0, 0),\n",
       " (0, 0),\n",
       " (0, 0),\n",
       " (0, 0),\n",
       " (0, 0),\n",
       " (0, 0),\n",
       " (0, 0),\n",
       " (0, 0),\n",
       " (0, 0),\n",
       " (0, 0),\n",
       " (0, 0),\n",
       " (0, 0),\n",
       " (0, 0),\n",
       " (0, 0),\n",
       " (0, 0),\n",
       " (0, 0),\n",
       " (0, 0),\n",
       " (0, 0),\n",
       " (0, 0),\n",
       " (0, 0),\n",
       " (0, 0),\n",
       " (0, 0),\n",
       " (0, 0),\n",
       " (0, 0),\n",
       " (0, 0),\n",
       " (0, 0),\n",
       " (0, 0),\n",
       " (0, 0),\n",
       " (0, 0),\n",
       " (0, 0),\n",
       " (0, 0),\n",
       " (0, 0),\n",
       " (0, 0),\n",
       " (0, 0),\n",
       " (0, 0),\n",
       " (0, 0),\n",
       " (0, 0),\n",
       " (0, 0),\n",
       " (0, 0),\n",
       " (0, 0),\n",
       " (0, 0),\n",
       " (0, 0),\n",
       " (0, 0),\n",
       " (0, 0),\n",
       " (0, 0),\n",
       " (0, 0),\n",
       " (0, 0),\n",
       " (0, 0),\n",
       " (0, 0),\n",
       " (0, 0),\n",
       " (0, 0),\n",
       " (0, 0),\n",
       " (0, 0),\n",
       " (0, 0),\n",
       " (0, 0),\n",
       " (0, 0),\n",
       " (0, 0),\n",
       " (0, 0),\n",
       " (0, 0),\n",
       " (0, 0),\n",
       " (0, 0),\n",
       " (0, 0),\n",
       " (0, 0),\n",
       " (0, 0),\n",
       " (0, 0),\n",
       " (0, 0),\n",
       " (0, 0),\n",
       " (0, 0),\n",
       " (0, 0),\n",
       " (0, 0),\n",
       " (0, 0),\n",
       " (0, 0),\n",
       " (0, 0),\n",
       " (0, 0),\n",
       " (0, 0),\n",
       " (0, 0),\n",
       " (0, 0),\n",
       " (0, 0),\n",
       " (0, 0),\n",
       " (0, 0),\n",
       " (0, 0),\n",
       " (0, 0),\n",
       " (0, 0),\n",
       " (0, 0),\n",
       " (0, 0),\n",
       " (0, 0),\n",
       " (0, 0),\n",
       " (0, 0),\n",
       " (0, 0),\n",
       " (0, 0),\n",
       " (0, 0),\n",
       " (0, 0),\n",
       " (0, 0),\n",
       " (0, 0),\n",
       " (0, 0),\n",
       " (0, 0),\n",
       " (0, 0),\n",
       " (0, 0),\n",
       " (0, 0),\n",
       " (0, 0),\n",
       " (0, 0),\n",
       " (0, 0),\n",
       " (0, 0),\n",
       " (0, 0),\n",
       " (0, 0),\n",
       " (0, 0),\n",
       " (0, 0),\n",
       " (0, 0),\n",
       " (0, 0),\n",
       " (0, 0),\n",
       " (0, 0),\n",
       " (0, 0),\n",
       " (0, 0),\n",
       " (0, 0),\n",
       " (0, 0),\n",
       " (0, 0),\n",
       " (0, 0),\n",
       " (0, 0),\n",
       " (0, 0),\n",
       " (0, 0),\n",
       " (0, 0),\n",
       " (0, 0),\n",
       " (0, 0),\n",
       " (0, 0),\n",
       " (0, 0),\n",
       " (0, 0),\n",
       " (0, 0),\n",
       " (0, 0),\n",
       " (0, 0),\n",
       " (0, 0),\n",
       " (0, 0),\n",
       " (0, 0),\n",
       " (0, 0),\n",
       " (0, 0),\n",
       " (0, 0)]"
      ]
     },
     "execution_count": 12,
     "metadata": {},
     "output_type": "execute_result"
    }
   ],
   "source": [
    "encoded['offset_mapping']"
   ]
  },
  {
   "cell_type": "code",
   "execution_count": null,
   "id": "1f3909e6-f447-4171-8b65-8d1bcc29c3a5",
   "metadata": {},
   "outputs": [],
   "source": []
  }
 ],
 "metadata": {
  "kernelspec": {
   "display_name": "text-mining-titans",
   "language": "python",
   "name": "text-mining-titans"
  },
  "language_info": {
   "codemirror_mode": {
    "name": "ipython",
    "version": 3
   },
   "file_extension": ".py",
   "mimetype": "text/x-python",
   "name": "python",
   "nbconvert_exporter": "python",
   "pygments_lexer": "ipython3",
   "version": "3.9.15"
  }
 },
 "nbformat": 4,
 "nbformat_minor": 5
}
